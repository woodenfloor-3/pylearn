{
 "cells": [
  {
   "cell_type": "code",
   "execution_count": null,
   "id": "d956c683-ed37-4a17-a9fd-6fbf109ef6ad",
   "metadata": {},
   "outputs": [],
   "source": [
    "import findspark\n",
    "findspark.init()\n",
    "\n",
    "from pyspark.sql import SparkSession\n",
    "\n",
    "spark = SparkSession.builder \\\n",
    "    .appName(\"App\") \\\n",
    "    .getOrCreate()\n",
    "\n"
   ]
  },
  {
   "cell_type": "code",
   "execution_count": null,
   "id": "38a129d9-6f34-4934-9078-60179e03670f",
   "metadata": {},
   "outputs": [],
   "source": [
    "spark\n"
   ]
  },
  {
   "cell_type": "code",
   "execution_count": null,
   "id": "a2c43e24-2cac-4d5e-8a8e-8e0055d2beb2",
   "metadata": {},
   "outputs": [],
   "source": [
    "myrange=spark.range(1000).toDF(\"number\")"
   ]
  },
  {
   "cell_type": "code",
   "execution_count": null,
   "id": "e2166c11-163f-4a07-9ee4-7253996c836d",
   "metadata": {},
   "outputs": [],
   "source": [
    "divisby2=myrange.where(\"number % 2 =0\")"
   ]
  },
  {
   "cell_type": "code",
   "execution_count": null,
   "id": "49033f0f-ecd6-4e3e-b2d6-21a7a3ad7b94",
   "metadata": {},
   "outputs": [],
   "source": [
    "divisby2.count()"
   ]
  },
  {
   "cell_type": "code",
   "execution_count": null,
   "id": "57707db6-0ba5-4036-be76-6248f6061266",
   "metadata": {
    "scrolled": true
   },
   "outputs": [],
   "source": [
    "head Desktop/learn/flight-data/csv/2015-summary.csv\n",
    "\n",
    "pwd\n"
   ]
  },
  {
   "cell_type": "code",
   "execution_count": null,
   "id": "52f47d8b-6c9c-4992-b39e-2093f72b6f9b",
   "metadata": {},
   "outputs": [],
   "source": [
    "ls\n"
   ]
  },
  {
   "cell_type": "code",
   "execution_count": null,
   "id": "1ec60521-2957-4e12-aaed-6546c83e513e",
   "metadata": {},
   "outputs": [],
   "source": [
    "flightdata2015 = spark\\\n",
    ".read\\\n",
    ".option(\"inferSchema\",\"true\")\\\n",
    ".option(\"header\",\"true\")\\\n",
    ".csv(\"2015-summary.csv\")\n",
    "\n",
    "        \n",
    "\n",
    "flightdata2015.take(3)"
   ]
  },
  {
   "cell_type": "code",
   "execution_count": null,
   "id": "84481cae-9829-479b-8c20-628c82dd6b33",
   "metadata": {},
   "outputs": [],
   "source": []
  },
  {
   "cell_type": "code",
   "execution_count": null,
   "id": "8b4baac8-8cc4-4a0c-9de7-9b8916809039",
   "metadata": {},
   "outputs": [],
   "source": [
    "flightdata2015.sort(\"count\").explain()"
   ]
  },
  {
   "cell_type": "code",
   "execution_count": null,
   "id": "95b9454e-d91f-4227-b64e-cf5f048105a5",
   "metadata": {},
   "outputs": [],
   "source": [
    "spark.conf.set(\"spark.sql.shuffle.partitions\",\"5\")"
   ]
  },
  {
   "cell_type": "code",
   "execution_count": null,
   "id": "c901e831-5db6-4ef8-bd92-3c98d221db0a",
   "metadata": {},
   "outputs": [],
   "source": [
    "flightdata2015.sort(\"count\").take(2)"
   ]
  },
  {
   "cell_type": "code",
   "execution_count": null,
   "id": "731ec391-affa-4e75-bb3f-03e5dd3cc8e6",
   "metadata": {},
   "outputs": [],
   "source": [
    "flightdata2015.createOrReplaceTempView(\"flight_data_2015\")"
   ]
  },
  {
   "cell_type": "code",
   "execution_count": null,
   "id": "ad2fa34d-8b92-4c5c-8246-e23cb6fd7379",
   "metadata": {},
   "outputs": [],
   "source": [
    "sqlway = spark.sql(\"\"\"\n",
    "SELECT DEST_COUNTRY_NAME, count(1)\n",
    "FROM flight_data_2015\n",
    "GROUP By DEST_COUNTRY_NAME\"\"\")"
   ]
  },
  {
   "cell_type": "code",
   "execution_count": null,
   "id": "f579272c-e9a2-4eaa-bc2d-05d1524a9f38",
   "metadata": {},
   "outputs": [],
   "source": [
    "dataframway=flightdata2015\\\n",
    ".groupBy(\"DEST_COUNTRY_NAME\")\\\n",
    ".count()"
   ]
  },
  {
   "cell_type": "code",
   "execution_count": null,
   "id": "ed1f941d-81bf-4dc1-88f6-11fe776d42e8",
   "metadata": {},
   "outputs": [],
   "source": [
    "sqlway.explain()\n",
    "dataframway.explain()"
   ]
  },
  {
   "cell_type": "code",
   "execution_count": null,
   "id": "df057937-a0c2-4280-9f0a-c4c2649b0dd3",
   "metadata": {},
   "outputs": [],
   "source": [
    "spark.sql(\"SELECT max(count) from flight_data_2015\").take(1)"
   ]
  },
  {
   "cell_type": "code",
   "execution_count": null,
   "id": "6a592bf3-3d3f-4ad8-8a02-f909a54b4393",
   "metadata": {},
   "outputs": [],
   "source": [
    "from pyspark.sql.functions import max\n",
    "flightdata2015.select(max(\"count\")).take(1)"
   ]
  },
  {
   "cell_type": "code",
   "execution_count": null,
   "id": "401ed2af-288e-4d10-9967-5f536e478e60",
   "metadata": {},
   "outputs": [],
   "source": [
    "maxsql= spark.sql(\"\"\"\n",
    "SELECT DEST_COUNTRY_NAME, sum(count) as destination_total\n",
    "FROM flight_data_2015\n",
    "GROUP BY DEST_COUNTRY_NAME\n",
    "ORDER BY sum(count) DESC\n",
    "LIMIT 5\n",
    "\"\"\")"
   ]
  },
  {
   "cell_type": "code",
   "execution_count": null,
   "id": "7252fe49-b702-40bc-955a-c4651bfe2fb5",
   "metadata": {},
   "outputs": [],
   "source": [
    "maxsql.show()\n"
   ]
  },
  {
   "cell_type": "code",
   "execution_count": null,
   "id": "01a8ddf7-335c-42d3-bd86-5eb25bebb5f8",
   "metadata": {},
   "outputs": [],
   "source": [
    "from pyspark.sql.functions import desc\n",
    "flightdata2015\\\n",
    ".groupBy(\"DEST_COUNTRY_NAME\")\\\n",
    ".sum(\"count\")\\\n",
    ".withColumnRenamed(\"sum(count)\",\"destination_total\")\\\n",
    ".sort(desc(\"destination_total\"))\\\n",
    ".limit(5)\\\n",
    ".explain()"
   ]
  },
  {
   "cell_type": "code",
   "execution_count": null,
   "id": "3b518cfc-8172-402b-87f2-e018a61d8d65",
   "metadata": {},
   "outputs": [],
   "source": [
    "pwd\n"
   ]
  },
  {
   "cell_type": "code",
   "execution_count": null,
   "id": "7827861f-83b3-4563-bfd7-8a42689becc1",
   "metadata": {},
   "outputs": [],
   "source": [
    "ls"
   ]
  },
  {
   "cell_type": "code",
   "execution_count": null,
   "id": "ca29767b-af1e-4f78-b57c-897b946e9a03",
   "metadata": {},
   "outputs": [],
   "source": [
    "#create df of retail data\n",
    "staticDataFrame = spark.read.format(\"csv\")\\\n",
    "  .option(\"header\", \"true\")\\\n",
    "  .option(\"inferSchema\", \"true\")\\\n",
    "  .load(\"retail-data/by-day/*.csv\")\n",
    "\n",
    "staticDataFrame.createOrReplaceTempView(\"retail_data\")\n",
    "staticSchema = staticDataFrame.schema"
   ]
  },
  {
   "cell_type": "code",
   "execution_count": null,
   "id": "723c81e8-629c-4983-b97b-111f7373b924",
   "metadata": {},
   "outputs": [],
   "source": [
    "staticDataFrame.show(5)"
   ]
  },
  {
   "cell_type": "code",
   "execution_count": null,
   "id": "1f28f13e-c32e-4e86-af77-4579625b07d1",
   "metadata": {},
   "outputs": [],
   "source": [
    "#view details about who spend most by using customerid wiht days interval\n",
    "from pyspark.sql.functions import window, column, desc, col\n",
    "staticDataFrame\\\n",
    "  .selectExpr(\n",
    "    \"CustomerId\",\n",
    "    \"(UnitPrice * Quantity) as total_cost\",\n",
    "    \"InvoiceDate\")\\\n",
    "  .groupBy(\n",
    "    col(\"CustomerId\"), window(col(\"InvoiceDate\"), \"1 day\"))\\\n",
    "  .sum(\"total_cost\")\\\n",
    "  .sum(total_cost)\\\n",
    "  .show(5)"
   ]
  },
  {
   "cell_type": "code",
   "execution_count": null,
   "id": "ecf64045-e840-4985-b0cd-895416ee7b44",
   "metadata": {},
   "outputs": [],
   "source": []
  },
  {
   "cell_type": "code",
   "execution_count": null,
   "id": "d43a128b-5cdd-4bd9-b97d-26c7512b9705",
   "metadata": {},
   "outputs": [],
   "source": []
  }
 ],
 "metadata": {
  "kernelspec": {
   "display_name": "Python 3 (ipykernel)",
   "language": "python",
   "name": "python3"
  },
  "language_info": {
   "codemirror_mode": {
    "name": "ipython",
    "version": 3
   },
   "file_extension": ".py",
   "mimetype": "text/x-python",
   "name": "python",
   "nbconvert_exporter": "python",
   "pygments_lexer": "ipython3",
   "version": "3.12.1"
  }
 },
 "nbformat": 4,
 "nbformat_minor": 5
}
